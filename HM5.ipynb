{
  "nbformat": 4,
  "nbformat_minor": 0,
  "metadata": {
    "kernelspec": {
      "display_name": "Python 3",
      "language": "python",
      "name": "python3"
    },
    "language_info": {
      "codemirror_mode": {
        "name": "ipython",
        "version": 3
      },
      "file_extension": ".py",
      "mimetype": "text/x-python",
      "name": "python",
      "nbconvert_exporter": "python",
      "pygments_lexer": "ipython3",
      "version": "3.7.1"
    },
    "colab": {
      "name": "HM5.ipynb",
      "provenance": [],
      "collapsed_sections": []
    },
    "accelerator": "GPU"
  },
  "cells": [
    {
      "cell_type": "markdown",
      "metadata": {
        "id": "OdiUWe1_d2ZF"
      },
      "source": [
        "# Home 5: Build a seq2seq model for machine translation.\n",
        "\n",
        "### Name: [Yi Rong]\n",
        "\n",
        "### Task: Translate English to [Spanish]"
      ]
    },
    {
      "cell_type": "markdown",
      "metadata": {
        "id": "IiTMC3SYd2ab"
      },
      "source": [
        "## 0. You will do the following:\n",
        "\n",
        "1. Read and run my code.\n",
        "2. Complete the code in Section 1.1 and Section 4.2.\n",
        "\n",
        "    * Translation **English** to **German** is not acceptable!!! Try another pair of languages.\n",
        "    \n",
        "3. **Make improvements.** Directly modify the code in Section 3. Do at least one of the two. By doing both correctly, you will get up to 1 bonus score to the total.\n",
        "\n",
        "    * Bi-LSTM instead of LSTM.\n",
        "        \n",
        "    * Attention. (You are allowed to use existing code.)\n",
        "    \n",
        "4. Evaluate the translation using the BLEU score. \n",
        "\n",
        "    * Optional. Up to 1 bonus scores to the total.\n",
        "    \n",
        "5. Convert the notebook to .HTML file. \n",
        "\n",
        "    * The HTML file must contain the code and the output after execution.\n",
        "\n",
        "6. Put the .HTML file in your Google Drive, Dropbox, or Github repo.  (If you submit the file to Google Drive or Dropbox, you must make the file \"open-access\". The delay caused by \"deny of access\" may result in late penalty.)\n",
        "\n",
        "7. Submit the link to the HTML file to Canvas.    \n"
      ]
    },
    {
      "cell_type": "markdown",
      "metadata": {
        "id": "jPGJ5Zb2d2ae"
      },
      "source": [
        "### Hint: \n",
        "\n",
        "To implement ```Bi-LSTM```, you will need the following code to build the encoder. Do NOT use Bi-LSTM for the decoder."
      ]
    },
    {
      "cell_type": "code",
      "metadata": {
        "colab": {
          "base_uri": "https://localhost:8080/",
          "height": 233
        },
        "id": "JcNl8JEsd2an",
        "outputId": "e37a71c6-9b16-49c5-801e-81c0a4da9128"
      },
      "source": [
        "from keras.layers import Bidirectional, Concatenate\n",
        "\n",
        "encoder_bilstm = Bidirectional(LSTM(latent_dim, return_state=True, \n",
        "                                  dropout=0.5, name='encoder_lstm'))\n",
        "_, forward_h, forward_c, backward_h, backward_c = encoder_bilstm(encoder_inputs)\n",
        "\n",
        "state_h = Concatenate()([forward_h, backward_h])\n",
        "state_c = Concatenate()([forward_c, backward_c])"
      ],
      "execution_count": 4,
      "outputs": [
        {
          "output_type": "error",
          "ename": "NameError",
          "evalue": "ignored",
          "traceback": [
            "\u001b[0;31m---------------------------------------------------------------------------\u001b[0m",
            "\u001b[0;31mNameError\u001b[0m                                 Traceback (most recent call last)",
            "\u001b[0;32m<ipython-input-4-e9dacc840b2a>\u001b[0m in \u001b[0;36m<module>\u001b[0;34m()\u001b[0m\n\u001b[1;32m      1\u001b[0m \u001b[0;32mfrom\u001b[0m \u001b[0mkeras\u001b[0m\u001b[0;34m.\u001b[0m\u001b[0mlayers\u001b[0m \u001b[0;32mimport\u001b[0m \u001b[0mBidirectional\u001b[0m\u001b[0;34m,\u001b[0m \u001b[0mConcatenate\u001b[0m\u001b[0;34m\u001b[0m\u001b[0;34m\u001b[0m\u001b[0m\n\u001b[1;32m      2\u001b[0m \u001b[0;34m\u001b[0m\u001b[0m\n\u001b[0;32m----> 3\u001b[0;31m encoder_bilstm = Bidirectional(LSTM(latent_dim, return_state=True, \n\u001b[0m\u001b[1;32m      4\u001b[0m                                   dropout=0.5, name='encoder_lstm'))\n\u001b[1;32m      5\u001b[0m \u001b[0m_\u001b[0m\u001b[0;34m,\u001b[0m \u001b[0mforward_h\u001b[0m\u001b[0;34m,\u001b[0m \u001b[0mforward_c\u001b[0m\u001b[0;34m,\u001b[0m \u001b[0mbackward_h\u001b[0m\u001b[0;34m,\u001b[0m \u001b[0mbackward_c\u001b[0m \u001b[0;34m=\u001b[0m \u001b[0mencoder_bilstm\u001b[0m\u001b[0;34m(\u001b[0m\u001b[0mencoder_inputs\u001b[0m\u001b[0;34m)\u001b[0m\u001b[0;34m\u001b[0m\u001b[0;34m\u001b[0m\u001b[0m\n",
            "\u001b[0;31mNameError\u001b[0m: name 'LSTM' is not defined"
          ]
        }
      ]
    },
    {
      "cell_type": "markdown",
      "metadata": {
        "id": "OXAuSXQ4d2az"
      },
      "source": [
        "## 1. Data preparation\n",
        "\n",
        "1. Download data (e.g., \"deu-eng.zip\") from http://www.manythings.org/anki/\n",
        "2. Unzip the .ZIP file.\n",
        "3. Put the .TXT file (e.g., \"deu.txt\") in the directory \"./Data/\"."
      ]
    },
    {
      "cell_type": "markdown",
      "metadata": {
        "id": "fw10Mi1ld2bF"
      },
      "source": [
        "### 1.1. Load and clean text\n"
      ]
    },
    {
      "cell_type": "code",
      "metadata": {
        "id": "clCZcEvNd2bT"
      },
      "source": [
        "import re\n",
        "import string\n",
        "from unicodedata import normalize\n",
        "import numpy\n",
        "\n",
        "# load doc into memory\n",
        "def load_doc(filename):\n",
        "    # open the file as read only\n",
        "    file = open(filename, mode='rt', encoding='utf-8')\n",
        "    # read all text\n",
        "    text = file.read()\n",
        "    # close the file\n",
        "    file.close()\n",
        "    return text\n",
        "\n",
        "\n",
        "# split a loaded document into sentences\n",
        "def to_pairs(doc):\n",
        "    lines = doc.strip().split('\\n')\n",
        "    pairs = [line.split('\\t') for line in  lines]\n",
        "    return pairs\n",
        "\n",
        "def clean_data(lines):\n",
        "    cleaned = list()\n",
        "    # prepare regex for char filtering\n",
        "    re_print = re.compile('[^%s]' % re.escape(string.printable))\n",
        "    # prepare translation table for removing punctuation\n",
        "    table = str.maketrans('', '', string.punctuation)\n",
        "    for pair in lines:\n",
        "        clean_pair = list()\n",
        "        for line in pair:\n",
        "            # normalize unicode characters\n",
        "            line = normalize('NFD', line).encode('ascii', 'ignore')\n",
        "            line = line.decode('UTF-8')\n",
        "            # tokenize on white space\n",
        "            line = line.split()\n",
        "            # convert to lowercase\n",
        "            line = [word.lower() for word in line]\n",
        "            # remove punctuation from each token\n",
        "            line = [word.translate(table) for word in line]\n",
        "            # remove non-printable chars form each token\n",
        "            line = [re_print.sub('', w) for w in line]\n",
        "            # remove tokens with numbers in them\n",
        "            line = [word for word in line if word.isalpha()]\n",
        "            # store as string\n",
        "            clean_pair.append(' '.join(line))\n",
        "        cleaned.append(clean_pair)\n",
        "    return numpy.array(cleaned)"
      ],
      "execution_count": 9,
      "outputs": []
    },
    {
      "cell_type": "markdown",
      "metadata": {
        "id": "16DP84krd2bt"
      },
      "source": [
        "#### Fill the following blanks:"
      ]
    },
    {
      "cell_type": "code",
      "metadata": {
        "id": "PsFQcs_yd2b5"
      },
      "source": [
        "# e.g., filename = 'Data/deu.txt'\n",
        "filename = 'drive/CN/spa.txt'\n",
        "\n",
        "# e.g., n_train = 20000 \n",
        "n_train = 20000\n"
      ],
      "execution_count": 17,
      "outputs": []
    },
    {
      "cell_type": "code",
      "metadata": {
        "id": "RHjwEkBfd2cC"
      },
      "source": [
        "# load dataset\n",
        "doc = load_doc(filename)\n",
        "\n",
        "# split into Language1-Language2 pairs\n",
        "pairs = to_pairs(doc)\n",
        "\n",
        "# clean sentences\n",
        "clean_pairs = clean_data(pairs)[0:n_train, :]"
      ],
      "execution_count": 18,
      "outputs": []
    },
    {
      "cell_type": "code",
      "metadata": {
        "colab": {
          "base_uri": "https://localhost:8080/"
        },
        "id": "hG-PRJbSd2cF",
        "outputId": "0d7b916a-45b3-4710-dfe8-bed5647b6384"
      },
      "source": [
        "for i in range(3000, 3010):\n",
        "    print('[' + clean_pairs[i, 0] + '] => [' + clean_pairs[i, 1] + ']')"
      ],
      "execution_count": 19,
      "outputs": [
        {
          "output_type": "stream",
          "text": [
            "[fix the roof] => [arregla el tejado]\n",
            "[get the book] => [trae el libro]\n",
            "[get the book] => [consigue el libro]\n",
            "[get the book] => [recoge el libro]\n",
            "[get the book] => [traiga el libro]\n",
            "[get the book] => [recoja el libro]\n",
            "[get upstairs] => [anda para arriba]\n",
            "[ghosts exist] => [los fantasmas existen]\n",
            "[give me half] => [dame la mitad]\n",
            "[give me half] => [deme la mitad]\n"
          ],
          "name": "stdout"
        }
      ]
    },
    {
      "cell_type": "code",
      "metadata": {
        "colab": {
          "base_uri": "https://localhost:8080/"
        },
        "id": "DsVOsyeRd2cH",
        "outputId": "3cd3b54e-b8a9-4fff-da8d-744d61679295"
      },
      "source": [
        "input_texts = clean_pairs[:, 0]\n",
        "target_texts = ['\\t' + text + '\\n' for text in clean_pairs[:, 1]]\n",
        "\n",
        "print('Length of input_texts:  ' + str(input_texts.shape))\n",
        "print('Length of target_texts: ' + str(input_texts.shape))"
      ],
      "execution_count": 20,
      "outputs": [
        {
          "output_type": "stream",
          "text": [
            "Length of input_texts:  (20000,)\n",
            "Length of target_texts: (20000,)\n"
          ],
          "name": "stdout"
        }
      ]
    },
    {
      "cell_type": "code",
      "metadata": {
        "colab": {
          "base_uri": "https://localhost:8080/"
        },
        "id": "kCEzP38fd2cK",
        "outputId": "b8390314-48fb-4993-94c5-2427efd5b18e"
      },
      "source": [
        "max_encoder_seq_length = max(len(line) for line in input_texts)\n",
        "max_decoder_seq_length = max(len(line) for line in target_texts)\n",
        "\n",
        "print('max length of input  sentences: %d' % (max_encoder_seq_length))\n",
        "print('max length of target sentences: %d' % (max_decoder_seq_length))"
      ],
      "execution_count": 21,
      "outputs": [
        {
          "output_type": "stream",
          "text": [
            "max length of input  sentences: 18\n",
            "max length of target sentences: 76\n"
          ],
          "name": "stdout"
        }
      ]
    },
    {
      "cell_type": "markdown",
      "metadata": {
        "id": "DSziVJnBd2cL"
      },
      "source": [
        "**Remark:** To this end, you have two lists of sentences: input_texts and target_texts"
      ]
    },
    {
      "cell_type": "markdown",
      "metadata": {
        "id": "6N76vwimd2cU"
      },
      "source": [
        "## 2. Text processing\n",
        "\n",
        "### 2.1. Convert texts to sequences\n",
        "\n",
        "- Input: A list of $n$ sentences (with max length $t$).\n",
        "- It is represented by a $n\\times t$ matrix after the tokenization and zero-padding."
      ]
    },
    {
      "cell_type": "code",
      "metadata": {
        "colab": {
          "base_uri": "https://localhost:8080/"
        },
        "id": "2XYCxhdYd2cd",
        "outputId": "393c0076-0b56-4cb1-e38a-bf82d9399d16"
      },
      "source": [
        "from keras.preprocessing.text import Tokenizer\n",
        "from keras.preprocessing.sequence import pad_sequences\n",
        "\n",
        "# encode and pad sequences\n",
        "def text2sequences(max_len, lines):\n",
        "    tokenizer = Tokenizer(char_level=True, filters='')\n",
        "    tokenizer.fit_on_texts(lines)\n",
        "    seqs = tokenizer.texts_to_sequences(lines)\n",
        "    seqs_pad = pad_sequences(seqs, maxlen=max_len, padding='post')\n",
        "    return seqs_pad, tokenizer.word_index\n",
        "\n",
        "  \n",
        "encoder_input_seq, input_token_index = text2sequences(max_encoder_seq_length, \n",
        "                                                      input_texts)\n",
        "decoder_input_seq, target_token_index = text2sequences(max_decoder_seq_length, \n",
        "                                                       target_texts)\n",
        "\n",
        "print('shape of encoder_input_seq: ' + str(encoder_input_seq.shape))\n",
        "print('shape of input_token_index: ' + str(len(input_token_index)))\n",
        "print('shape of decoder_input_seq: ' + str(decoder_input_seq.shape))\n",
        "print('shape of target_token_index: ' + str(len(target_token_index)))"
      ],
      "execution_count": 22,
      "outputs": [
        {
          "output_type": "stream",
          "text": [
            "shape of encoder_input_seq: (20000, 18)\n",
            "shape of input_token_index: 27\n",
            "shape of decoder_input_seq: (20000, 76)\n",
            "shape of target_token_index: 29\n"
          ],
          "name": "stdout"
        }
      ]
    },
    {
      "cell_type": "code",
      "metadata": {
        "colab": {
          "base_uri": "https://localhost:8080/"
        },
        "id": "8UZHFYGTd2co",
        "outputId": "29bc0925-3974-4e3b-ad14-570771dd821b"
      },
      "source": [
        "num_encoder_tokens = len(input_token_index) + 1\n",
        "num_decoder_tokens = len(target_token_index) + 1\n",
        "\n",
        "print('num_encoder_tokens: ' + str(num_encoder_tokens))\n",
        "print('num_decoder_tokens: ' + str(num_decoder_tokens))"
      ],
      "execution_count": 23,
      "outputs": [
        {
          "output_type": "stream",
          "text": [
            "num_encoder_tokens: 28\n",
            "num_decoder_tokens: 30\n"
          ],
          "name": "stdout"
        }
      ]
    },
    {
      "cell_type": "markdown",
      "metadata": {
        "id": "jXDx0tTDd2c2"
      },
      "source": [
        "**Remark:** To this end, the input language and target language texts are converted to 2 matrices. \n",
        "\n",
        "- Their number of rows are both n_train.\n",
        "- Their number of columns are respective max_encoder_seq_length and max_decoder_seq_length."
      ]
    },
    {
      "cell_type": "markdown",
      "metadata": {
        "id": "k08299gLd2c7"
      },
      "source": [
        "The followings print a sentence and its representation as a sequence."
      ]
    },
    {
      "cell_type": "code",
      "metadata": {
        "colab": {
          "base_uri": "https://localhost:8080/",
          "height": 35
        },
        "id": "YnL1x6s6d2c7",
        "outputId": "2945506c-09e1-4de9-e4e3-8fb0adcfb55b"
      },
      "source": [
        "target_texts[100]"
      ],
      "execution_count": 24,
      "outputs": [
        {
          "output_type": "execute_result",
          "data": {
            "application/vnd.google.colaboratory.intrinsic+json": {
              "type": "string"
            },
            "text/plain": [
              "'\\tmangos\\n'"
            ]
          },
          "metadata": {
            "tags": []
          },
          "execution_count": 24
        }
      ]
    },
    {
      "cell_type": "code",
      "metadata": {
        "colab": {
          "base_uri": "https://localhost:8080/"
        },
        "id": "43QqRANvd2dJ",
        "outputId": "215233fe-377b-4e04-e655-6303f4ea99a1"
      },
      "source": [
        "decoder_input_seq[100, :]"
      ],
      "execution_count": 25,
      "outputs": [
        {
          "output_type": "execute_result",
          "data": {
            "text/plain": [
              "array([ 6, 13,  3,  8, 20,  4,  5,  7,  0,  0,  0,  0,  0,  0,  0,  0,  0,\n",
              "        0,  0,  0,  0,  0,  0,  0,  0,  0,  0,  0,  0,  0,  0,  0,  0,  0,\n",
              "        0,  0,  0,  0,  0,  0,  0,  0,  0,  0,  0,  0,  0,  0,  0,  0,  0,\n",
              "        0,  0,  0,  0,  0,  0,  0,  0,  0,  0,  0,  0,  0,  0,  0,  0,  0,\n",
              "        0,  0,  0,  0,  0,  0,  0,  0], dtype=int32)"
            ]
          },
          "metadata": {
            "tags": []
          },
          "execution_count": 25
        }
      ]
    },
    {
      "cell_type": "markdown",
      "metadata": {
        "id": "p-hAQ-8Qd2dP"
      },
      "source": [
        "## 2.2. One-hot encode\n",
        "\n",
        "- Input: A list of $n$ sentences (with max length $t$).\n",
        "- It is represented by a $n\\times t$ matrix after the tokenization and zero-padding.\n",
        "- It is represented by a $n\\times t \\times v$ tensor ($t$ is the number of unique chars) after the one-hot encoding."
      ]
    },
    {
      "cell_type": "code",
      "metadata": {
        "colab": {
          "base_uri": "https://localhost:8080/"
        },
        "id": "lyrcA-7Zd2dQ",
        "outputId": "94344717-3edd-4056-a6f7-1d60e95360e8"
      },
      "source": [
        "from keras.utils import to_categorical\n",
        "\n",
        "# one hot encode target sequence\n",
        "def onehot_encode(sequences, max_len, vocab_size):\n",
        "    n = len(sequences)\n",
        "    data = numpy.zeros((n, max_len, vocab_size))\n",
        "    for i in range(n):\n",
        "        data[i, :, :] = to_categorical(sequences[i], num_classes=vocab_size)\n",
        "    return data\n",
        "\n",
        "encoder_input_data = onehot_encode(encoder_input_seq, max_encoder_seq_length, num_encoder_tokens)\n",
        "decoder_input_data = onehot_encode(decoder_input_seq, max_decoder_seq_length, num_decoder_tokens)\n",
        "\n",
        "decoder_target_seq = numpy.zeros(decoder_input_seq.shape)\n",
        "decoder_target_seq[:, 0:-1] = decoder_input_seq[:, 1:]\n",
        "decoder_target_data = onehot_encode(decoder_target_seq, \n",
        "                                    max_decoder_seq_length, \n",
        "                                    num_decoder_tokens)\n",
        "\n",
        "print(encoder_input_data.shape)\n",
        "print(decoder_input_data.shape)"
      ],
      "execution_count": 26,
      "outputs": [
        {
          "output_type": "stream",
          "text": [
            "(20000, 18, 28)\n",
            "(20000, 76, 30)\n"
          ],
          "name": "stdout"
        }
      ]
    },
    {
      "cell_type": "markdown",
      "metadata": {
        "id": "fdcqa6dJd2dh"
      },
      "source": [
        "## 3. Build the networks (for training)\n",
        "\n",
        "- Build encoder, decoder, and connect the two modules to get \"model\". \n",
        "\n",
        "- Fit the model on the bilingual data to train the parameters in the encoder and decoder."
      ]
    },
    {
      "cell_type": "markdown",
      "metadata": {
        "id": "fzvP8SiWd2dq"
      },
      "source": [
        "### 3.1. Encoder network\n",
        "\n",
        "- Input:  one-hot encode of the input language\n",
        "\n",
        "- Return: \n",
        "\n",
        "    -- output (all the hidden states   $h_1, \\cdots , h_t$) are always discarded\n",
        "    \n",
        "    -- the final hidden state  $h_t$\n",
        "    \n",
        "    -- the final conveyor belt $c_t$"
      ]
    },
    {
      "cell_type": "code",
      "metadata": {
        "id": "7M0cr4h6d2du"
      },
      "source": [
        "from keras.layers import Input, LSTM, Bidirectional, Concatenate\n",
        "from keras.models import Model\n",
        "\n",
        "latent_dim = 256\n",
        "\n",
        "# inputs of the encoder network\n",
        "encoder_inputs = Input(shape=(None, num_encoder_tokens), \n",
        "                       name='encoder_inputs')\n",
        "\n",
        "# set the biLSTM layer\n",
        "encoder_bilstm = Bidirectional(LSTM(latent_dim, return_state=True, \n",
        "                    dropout=0.5, name='encoder_bilstm'))\n",
        "_, forward_h, forward_c, backward_h, backward_c = encoder_bilstm(encoder_inputs)\n",
        "\n",
        "state_h = Concatenate()([forward_h, backward_h])\n",
        "state_c = Concatenate()([forward_c, backward_c])\n",
        "\n",
        "# build the encoder network model\n",
        "encoder_model = Model(inputs=encoder_inputs, \n",
        "                      outputs=[state_h, state_c],\n",
        "                      name='encoder')"
      ],
      "execution_count": 27,
      "outputs": []
    },
    {
      "cell_type": "markdown",
      "metadata": {
        "id": "Letpy5AQd2dw"
      },
      "source": [
        "Print a summary and save the encoder network structure to \"./encoder.pdf\""
      ]
    },
    {
      "cell_type": "code",
      "metadata": {
        "colab": {
          "base_uri": "https://localhost:8080/"
        },
        "id": "b5jpJV4ud2dw",
        "outputId": "19877b02-ab51-4630-ea81-755d09c1fc19"
      },
      "source": [
        "from IPython.display import SVG\n",
        "from keras.utils.vis_utils import model_to_dot, plot_model\n",
        "\n",
        "SVG(model_to_dot(encoder_model, show_shapes=False).create(prog='dot', format='svg'))\n",
        "\n",
        "plot_model(\n",
        "    model=encoder_model, show_shapes=False,\n",
        "    to_file='encoder.pdf'\n",
        ")\n",
        "\n",
        "encoder_model.summary()"
      ],
      "execution_count": 28,
      "outputs": [
        {
          "output_type": "stream",
          "text": [
            "Model: \"encoder\"\n",
            "__________________________________________________________________________________________________\n",
            "Layer (type)                    Output Shape         Param #     Connected to                     \n",
            "==================================================================================================\n",
            "encoder_inputs (InputLayer)     [(None, None, 28)]   0                                            \n",
            "__________________________________________________________________________________________________\n",
            "bidirectional (Bidirectional)   [(None, 512), (None, 583680      encoder_inputs[0][0]             \n",
            "__________________________________________________________________________________________________\n",
            "concatenate (Concatenate)       (None, 512)          0           bidirectional[0][1]              \n",
            "                                                                 bidirectional[0][3]              \n",
            "__________________________________________________________________________________________________\n",
            "concatenate_1 (Concatenate)     (None, 512)          0           bidirectional[0][2]              \n",
            "                                                                 bidirectional[0][4]              \n",
            "==================================================================================================\n",
            "Total params: 583,680\n",
            "Trainable params: 583,680\n",
            "Non-trainable params: 0\n",
            "__________________________________________________________________________________________________\n"
          ],
          "name": "stdout"
        }
      ]
    },
    {
      "cell_type": "markdown",
      "metadata": {
        "id": "nXSrKTH_d2dy"
      },
      "source": [
        "### 3.2. Decoder network\n",
        "\n",
        "- Inputs:  \n",
        "\n",
        "    -- one-hot encode of the target language\n",
        "    \n",
        "    -- The initial hidden state $h_t$ \n",
        "    \n",
        "    -- The initial conveyor belt $c_t$ \n",
        "\n",
        "- Return: \n",
        "\n",
        "    -- output (all the hidden states) $h_1, \\cdots , h_t$\n",
        "\n",
        "    -- the final hidden state  $h_t$ (discarded in the training and used in the prediction)\n",
        "    \n",
        "    -- the final conveyor belt $c_t$ (discarded in the training and used in the prediction)"
      ]
    },
    {
      "cell_type": "code",
      "metadata": {
        "id": "k5MNC-Fcd2eC"
      },
      "source": [
        "from keras.layers import Input, LSTM, Dense\n",
        "from keras.models import Model\n",
        "\n",
        "# inputs of the decoder network\n",
        "decoder_input_h = Input(shape=(latent_dim*2,), name='decoder_input_h')\n",
        "decoder_input_c = Input(shape=(latent_dim*2,), name='decoder_input_c')\n",
        "decoder_input_x = Input(shape=(None, num_decoder_tokens), name='decoder_input_x')\n",
        "\n",
        "# set the LSTM layer\n",
        "decoder_lstm = LSTM(latent_dim*2, return_sequences=True, \n",
        "                    return_state=True, dropout=0.5, name='decoder_lstm')\n",
        "decoder_lstm_outputs, state_h, state_c = decoder_lstm(decoder_input_x, \n",
        "                                                      initial_state=[decoder_input_h, decoder_input_c])\n",
        "\n",
        "# set the dense layer\n",
        "decoder_dense = Dense(num_decoder_tokens, activation='softmax', name='decoder_dense')\n",
        "decoder_outputs = decoder_dense(decoder_lstm_outputs)\n",
        "\n",
        "# build the decoder network model\n",
        "decoder_model = Model(inputs=[decoder_input_x, decoder_input_h, decoder_input_c],\n",
        "                      outputs=[decoder_outputs, state_h, state_c],\n",
        "                      name='decoder')"
      ],
      "execution_count": 29,
      "outputs": []
    },
    {
      "cell_type": "markdown",
      "metadata": {
        "id": "vXqcFgrgd2eS"
      },
      "source": [
        "Print a summary and save the encoder network structure to \"./decoder.pdf\""
      ]
    },
    {
      "cell_type": "code",
      "metadata": {
        "colab": {
          "base_uri": "https://localhost:8080/"
        },
        "id": "uMW7hkzhd2eU",
        "outputId": "76009027-ef5a-4781-c71f-258b5936cbff"
      },
      "source": [
        "from IPython.display import SVG\n",
        "from keras.utils.vis_utils import model_to_dot, plot_model\n",
        "\n",
        "SVG(model_to_dot(decoder_model, show_shapes=False).create(prog='dot', format='svg'))\n",
        "\n",
        "plot_model(\n",
        "    model=decoder_model, show_shapes=False,\n",
        "    to_file='decoder.pdf'\n",
        ")\n",
        "\n",
        "decoder_model.summary()"
      ],
      "execution_count": 30,
      "outputs": [
        {
          "output_type": "stream",
          "text": [
            "Model: \"decoder\"\n",
            "__________________________________________________________________________________________________\n",
            "Layer (type)                    Output Shape         Param #     Connected to                     \n",
            "==================================================================================================\n",
            "decoder_input_x (InputLayer)    [(None, None, 30)]   0                                            \n",
            "__________________________________________________________________________________________________\n",
            "decoder_input_h (InputLayer)    [(None, 512)]        0                                            \n",
            "__________________________________________________________________________________________________\n",
            "decoder_input_c (InputLayer)    [(None, 512)]        0                                            \n",
            "__________________________________________________________________________________________________\n",
            "decoder_lstm (LSTM)             [(None, None, 512),  1112064     decoder_input_x[0][0]            \n",
            "                                                                 decoder_input_h[0][0]            \n",
            "                                                                 decoder_input_c[0][0]            \n",
            "__________________________________________________________________________________________________\n",
            "decoder_dense (Dense)           (None, None, 30)     15390       decoder_lstm[0][0]               \n",
            "==================================================================================================\n",
            "Total params: 1,127,454\n",
            "Trainable params: 1,127,454\n",
            "Non-trainable params: 0\n",
            "__________________________________________________________________________________________________\n"
          ],
          "name": "stdout"
        }
      ]
    },
    {
      "cell_type": "markdown",
      "metadata": {
        "id": "wvBteNacd2ej"
      },
      "source": [
        "### 3.3. Connect the encoder and decoder"
      ]
    },
    {
      "cell_type": "code",
      "metadata": {
        "id": "oY8-lnMld2ek"
      },
      "source": [
        "# input layers\n",
        "encoder_input_x = Input(shape=(None, num_encoder_tokens), name='encoder_input_x')\n",
        "decoder_input_x = Input(shape=(None, num_decoder_tokens), name='decoder_input_x')\n",
        "\n",
        "# connect encoder to decoder\n",
        "encoder_final_states = encoder_model([encoder_input_x])\n",
        "decoder_lstm_output, _, _ = decoder_lstm(decoder_input_x, initial_state=encoder_final_states)\n",
        "decoder_pred = decoder_dense(decoder_lstm_output)\n",
        "\n",
        "model = Model(inputs=[encoder_input_x, decoder_input_x], \n",
        "              outputs=decoder_pred, \n",
        "              name='model_training')"
      ],
      "execution_count": 31,
      "outputs": []
    },
    {
      "cell_type": "code",
      "metadata": {
        "colab": {
          "base_uri": "https://localhost:8080/"
        },
        "id": "vgyR_xC-d2el",
        "outputId": "4a387d43-ca19-49a3-9431-ffddcc22e21e"
      },
      "source": [
        "print(state_h)\n",
        "print(decoder_input_h)"
      ],
      "execution_count": 32,
      "outputs": [
        {
          "output_type": "stream",
          "text": [
            "KerasTensor(type_spec=TensorSpec(shape=(None, 512), dtype=tf.float32, name=None), name='decoder_lstm/PartitionedCall:2', description=\"created by layer 'decoder_lstm'\")\n",
            "KerasTensor(type_spec=TensorSpec(shape=(None, 512), dtype=tf.float32, name='decoder_input_h'), name='decoder_input_h', description=\"created by layer 'decoder_input_h'\")\n"
          ],
          "name": "stdout"
        }
      ]
    },
    {
      "cell_type": "code",
      "metadata": {
        "colab": {
          "base_uri": "https://localhost:8080/"
        },
        "id": "9j4LeBj6d2eq",
        "outputId": "cb73942b-c87b-48fb-bf70-9369d2dc6685"
      },
      "source": [
        "from IPython.display import SVG\n",
        "from keras.utils.vis_utils import model_to_dot, plot_model\n",
        "\n",
        "SVG(model_to_dot(model, show_shapes=False).create(prog='dot', format='svg'))\n",
        "\n",
        "plot_model(\n",
        "    model=model, show_shapes=False,\n",
        "    to_file='model_training.pdf'\n",
        ")\n",
        "\n",
        "model.summary()"
      ],
      "execution_count": 33,
      "outputs": [
        {
          "output_type": "stream",
          "text": [
            "Model: \"model_training\"\n",
            "__________________________________________________________________________________________________\n",
            "Layer (type)                    Output Shape         Param #     Connected to                     \n",
            "==================================================================================================\n",
            "encoder_input_x (InputLayer)    [(None, None, 28)]   0                                            \n",
            "__________________________________________________________________________________________________\n",
            "decoder_input_x (InputLayer)    [(None, None, 30)]   0                                            \n",
            "__________________________________________________________________________________________________\n",
            "encoder (Functional)            [(None, 512), (None, 583680      encoder_input_x[0][0]            \n",
            "__________________________________________________________________________________________________\n",
            "decoder_lstm (LSTM)             [(None, None, 512),  1112064     decoder_input_x[0][0]            \n",
            "                                                                 encoder[0][0]                    \n",
            "                                                                 encoder[0][1]                    \n",
            "__________________________________________________________________________________________________\n",
            "decoder_dense (Dense)           (None, None, 30)     15390       decoder_lstm[1][0]               \n",
            "==================================================================================================\n",
            "Total params: 1,711,134\n",
            "Trainable params: 1,711,134\n",
            "Non-trainable params: 0\n",
            "__________________________________________________________________________________________________\n"
          ],
          "name": "stdout"
        }
      ]
    },
    {
      "cell_type": "markdown",
      "metadata": {
        "id": "-WtU_JD2d2et"
      },
      "source": [
        "### 3.5. Fit the model on the bilingual dataset\n",
        "\n",
        "- encoder_input_data: one-hot encode of the input language\n",
        "\n",
        "- decoder_input_data: one-hot encode of the input language\n",
        "\n",
        "- decoder_target_data: labels (left shift of decoder_input_data)\n",
        "\n",
        "- tune the hyper-parameters\n",
        "\n",
        "- stop when the validation loss stop decreasing."
      ]
    },
    {
      "cell_type": "code",
      "metadata": {
        "colab": {
          "base_uri": "https://localhost:8080/"
        },
        "id": "24pjZtDPd2e5",
        "outputId": "8f781ada-7a78-4c91-adce-5f10a1f36084"
      },
      "source": [
        "print('shape of encoder_input_data' + str(encoder_input_data.shape))\n",
        "print('shape of decoder_input_data' + str(decoder_input_data.shape))\n",
        "print('shape of decoder_target_data' + str(decoder_target_data.shape))"
      ],
      "execution_count": 34,
      "outputs": [
        {
          "output_type": "stream",
          "text": [
            "shape of encoder_input_data(20000, 18, 28)\n",
            "shape of decoder_input_data(20000, 76, 30)\n",
            "shape of decoder_target_data(20000, 76, 30)\n"
          ],
          "name": "stdout"
        }
      ]
    },
    {
      "cell_type": "code",
      "metadata": {
        "colab": {
          "base_uri": "https://localhost:8080/"
        },
        "id": "p4pY4fATd2e8",
        "outputId": "19343c6d-e23c-4f1f-8fee-bca3db58251d"
      },
      "source": [
        "model.compile(optimizer='rmsprop', loss='categorical_crossentropy')\n",
        "\n",
        "model.fit([encoder_input_data, decoder_input_data],  # training data\n",
        "          decoder_target_data,                       # labels (left shift of the target sequences)\n",
        "          batch_size=64, epochs=50, validation_split=0.2)\n",
        "\n",
        "model.save('seq2seq.h5')"
      ],
      "execution_count": 35,
      "outputs": [
        {
          "output_type": "stream",
          "text": [
            "Epoch 1/50\n",
            "250/250 [==============================] - 41s 27ms/step - loss: 0.8900 - val_loss: 0.6218\n",
            "Epoch 2/50\n",
            "250/250 [==============================] - 6s 23ms/step - loss: 0.5355 - val_loss: 0.5431\n",
            "Epoch 3/50\n",
            "250/250 [==============================] - 6s 23ms/step - loss: 0.4985 - val_loss: 0.4992\n",
            "Epoch 4/50\n",
            "250/250 [==============================] - 6s 23ms/step - loss: 0.4772 - val_loss: 0.4739\n",
            "Epoch 5/50\n",
            "250/250 [==============================] - 6s 23ms/step - loss: 0.4613 - val_loss: 0.4556\n",
            "Epoch 6/50\n",
            "250/250 [==============================] - 6s 23ms/step - loss: 0.4470 - val_loss: 0.4370\n",
            "Epoch 7/50\n",
            "250/250 [==============================] - 6s 24ms/step - loss: 0.4306 - val_loss: 0.4244\n",
            "Epoch 8/50\n",
            "250/250 [==============================] - 6s 23ms/step - loss: 0.4265 - val_loss: 0.4164\n",
            "Epoch 9/50\n",
            "250/250 [==============================] - 6s 23ms/step - loss: 0.4154 - val_loss: 0.4097\n",
            "Epoch 10/50\n",
            "250/250 [==============================] - 6s 23ms/step - loss: 0.4092 - val_loss: 0.3997\n",
            "Epoch 11/50\n",
            "250/250 [==============================] - 6s 23ms/step - loss: 0.3957 - val_loss: 0.3914\n",
            "Epoch 12/50\n",
            "250/250 [==============================] - 6s 23ms/step - loss: 0.3901 - val_loss: 0.3847\n",
            "Epoch 13/50\n",
            "250/250 [==============================] - 6s 23ms/step - loss: 0.3831 - val_loss: 0.3795\n",
            "Epoch 14/50\n",
            "250/250 [==============================] - 6s 23ms/step - loss: 0.3797 - val_loss: 0.3720\n",
            "Epoch 15/50\n",
            "250/250 [==============================] - 6s 23ms/step - loss: 0.3712 - val_loss: 0.3667\n",
            "Epoch 16/50\n",
            "250/250 [==============================] - 6s 23ms/step - loss: 0.3670 - val_loss: 0.3656\n",
            "Epoch 17/50\n",
            "250/250 [==============================] - 6s 23ms/step - loss: 0.3622 - val_loss: 0.3590\n",
            "Epoch 18/50\n",
            "250/250 [==============================] - 6s 23ms/step - loss: 0.3589 - val_loss: 0.3559\n",
            "Epoch 19/50\n",
            "250/250 [==============================] - 6s 23ms/step - loss: 0.3516 - val_loss: 0.3539\n",
            "Epoch 20/50\n",
            "250/250 [==============================] - 6s 23ms/step - loss: 0.3505 - val_loss: 0.3479\n",
            "Epoch 21/50\n",
            "250/250 [==============================] - 6s 23ms/step - loss: 0.3454 - val_loss: 0.3499\n",
            "Epoch 22/50\n",
            "250/250 [==============================] - 6s 23ms/step - loss: 0.3423 - val_loss: 0.3442\n",
            "Epoch 23/50\n",
            "250/250 [==============================] - 6s 23ms/step - loss: 0.3380 - val_loss: 0.3431\n",
            "Epoch 24/50\n",
            "250/250 [==============================] - 6s 23ms/step - loss: 0.3354 - val_loss: 0.3441\n",
            "Epoch 25/50\n",
            "250/250 [==============================] - 6s 24ms/step - loss: 0.3291 - val_loss: 0.3380\n",
            "Epoch 26/50\n",
            "250/250 [==============================] - 6s 23ms/step - loss: 0.3310 - val_loss: 0.3348\n",
            "Epoch 27/50\n",
            "250/250 [==============================] - 6s 23ms/step - loss: 0.3264 - val_loss: 0.3372\n",
            "Epoch 28/50\n",
            "250/250 [==============================] - 6s 23ms/step - loss: 0.3243 - val_loss: 0.3336\n",
            "Epoch 29/50\n",
            "250/250 [==============================] - 6s 23ms/step - loss: 0.3205 - val_loss: 0.3329\n",
            "Epoch 30/50\n",
            "250/250 [==============================] - 6s 23ms/step - loss: 0.3176 - val_loss: 0.3299\n",
            "Epoch 31/50\n",
            "250/250 [==============================] - 6s 23ms/step - loss: 0.3156 - val_loss: 0.3301\n",
            "Epoch 32/50\n",
            "250/250 [==============================] - 6s 23ms/step - loss: 0.3108 - val_loss: 0.3311\n",
            "Epoch 33/50\n",
            "250/250 [==============================] - 6s 23ms/step - loss: 0.3083 - val_loss: 0.3275\n",
            "Epoch 34/50\n",
            "250/250 [==============================] - 6s 23ms/step - loss: 0.3087 - val_loss: 0.3278\n",
            "Epoch 35/50\n",
            "250/250 [==============================] - 6s 23ms/step - loss: 0.3063 - val_loss: 0.3261\n",
            "Epoch 36/50\n",
            "250/250 [==============================] - 6s 23ms/step - loss: 0.3025 - val_loss: 0.3269\n",
            "Epoch 37/50\n",
            "250/250 [==============================] - 6s 23ms/step - loss: 0.2997 - val_loss: 0.3236\n",
            "Epoch 38/50\n",
            "250/250 [==============================] - 6s 23ms/step - loss: 0.2975 - val_loss: 0.3251\n",
            "Epoch 39/50\n",
            "250/250 [==============================] - 6s 23ms/step - loss: 0.2988 - val_loss: 0.3254\n",
            "Epoch 40/50\n",
            "250/250 [==============================] - 6s 23ms/step - loss: 0.2968 - val_loss: 0.3222\n",
            "Epoch 41/50\n",
            "250/250 [==============================] - 6s 23ms/step - loss: 0.2938 - val_loss: 0.3223\n",
            "Epoch 42/50\n",
            "250/250 [==============================] - 6s 23ms/step - loss: 0.2903 - val_loss: 0.3202\n",
            "Epoch 43/50\n",
            "250/250 [==============================] - 6s 23ms/step - loss: 0.2872 - val_loss: 0.3195\n",
            "Epoch 44/50\n",
            "250/250 [==============================] - 6s 23ms/step - loss: 0.2880 - val_loss: 0.3215\n",
            "Epoch 45/50\n",
            "250/250 [==============================] - 6s 24ms/step - loss: 0.2862 - val_loss: 0.3231\n",
            "Epoch 46/50\n",
            "250/250 [==============================] - 6s 23ms/step - loss: 0.2826 - val_loss: 0.3217\n",
            "Epoch 47/50\n",
            "250/250 [==============================] - 6s 24ms/step - loss: 0.2830 - val_loss: 0.3203\n",
            "Epoch 48/50\n",
            "250/250 [==============================] - 6s 23ms/step - loss: 0.2789 - val_loss: 0.3209\n",
            "Epoch 49/50\n",
            "250/250 [==============================] - 6s 24ms/step - loss: 0.2758 - val_loss: 0.3204\n",
            "Epoch 50/50\n",
            "250/250 [==============================] - 6s 23ms/step - loss: 0.2790 - val_loss: 0.3182\n"
          ],
          "name": "stdout"
        }
      ]
    },
    {
      "cell_type": "markdown",
      "metadata": {
        "id": "8acIWoiAd2e_"
      },
      "source": [
        "## 4. Make predictions\n",
        "\n",
        "\n",
        "### 4.1. Translate English to spanish\n",
        "\n",
        "1. Encoder read a sentence (source language) and output its final states, $h_t$ and $c_t$.\n",
        "2. Take the [star] sign \"\\t\" and the final state $h_t$ and $c_t$ as input and run the decoder.\n",
        "3. Get the new states and predicted probability distribution.\n",
        "4. sample a char from the predicted probability distribution\n",
        "5. take the sampled char and the new states as input and repeat the process (stop if reach the [stop] sign \"\\n\")."
      ]
    },
    {
      "cell_type": "code",
      "metadata": {
        "id": "Duz1kdvkd2fK"
      },
      "source": [
        "# Reverse-lookup token index to decode sequences back to something readable.\n",
        "reverse_input_char_index = dict((i, char) for char, i in input_token_index.items())\n",
        "reverse_target_char_index = dict((i, char) for char, i in target_token_index.items())"
      ],
      "execution_count": 36,
      "outputs": []
    },
    {
      "cell_type": "code",
      "metadata": {
        "id": "VZdlqI1ld2fM"
      },
      "source": [
        "def decode_sequence(input_seq):\n",
        "    states_value = encoder_model.predict(input_seq)\n",
        "\n",
        "    target_seq = numpy.zeros((1, 1, num_decoder_tokens))\n",
        "    target_seq[0, 0, target_token_index['\\t']] = 1.\n",
        "\n",
        "    stop_condition = False\n",
        "    decoded_sentence = ''\n",
        "    while not stop_condition:\n",
        "        output_tokens, h, c = decoder_model.predict([target_seq] + states_value)\n",
        "\n",
        "        # this line of code is greedy selection\n",
        "        # try to use multinomial sampling instead (with temperature)\n",
        "        sampled_token_index = numpy.argmax(output_tokens[0, -1, :])\n",
        "        \n",
        "        sampled_char = reverse_target_char_index[sampled_token_index]\n",
        "        decoded_sentence += sampled_char\n",
        "\n",
        "        if (sampled_char == '\\n' or\n",
        "           len(decoded_sentence) > max_decoder_seq_length):\n",
        "            stop_condition = True\n",
        "\n",
        "        target_seq = numpy.zeros((1, 1, num_decoder_tokens))\n",
        "        target_seq[0, 0, sampled_token_index] = 1.\n",
        "\n",
        "        states_value = [h, c]\n",
        "\n",
        "    return decoded_sentence\n"
      ],
      "execution_count": 37,
      "outputs": []
    },
    {
      "cell_type": "code",
      "metadata": {
        "colab": {
          "base_uri": "https://localhost:8080/"
        },
        "id": "m6nPFErgd2fQ",
        "outputId": "2824fdd3-eb01-4cf9-a994-c6116edd379b"
      },
      "source": [
        "for seq_index in range(2100, 2120):\n",
        "    # Take one sequence (part of the training set)\n",
        "    # for trying out decoding.\n",
        "    input_seq = encoder_input_data[seq_index: seq_index + 1]\n",
        "    decoded_sentence = decode_sequence(input_seq)\n",
        "    print('-')\n",
        "    print('English:       ', input_texts[seq_index])\n",
        "    print('Spanish (true): ', target_texts[seq_index][1:-1])\n",
        "    print('Spanish (pred): ', decoded_sentence[0:-1])\n"
      ],
      "execution_count": 38,
      "outputs": [
        {
          "output_type": "stream",
          "text": [
            "-\n",
            "English:        i loved you\n",
            "Spanish (true):  yo te amaba\n",
            "Spanish (pred):  yo te quisia\n",
            "-\n",
            "English:        i loved you\n",
            "Spanish (true):  yo os quise\n",
            "Spanish (pred):  yo te quisia\n",
            "-\n",
            "English:        i loved you\n",
            "Spanish (true):  yo os amaba\n",
            "Spanish (pred):  yo te quisia\n",
            "-\n",
            "English:        i made that\n",
            "Spanish (true):  yo hice eso\n",
            "Spanish (pred):  yo hice eso\n",
            "-\n",
            "English:        i mean that\n",
            "Spanish (true):  a eso me refiero\n",
            "Spanish (pred):  yo hice eso\n",
            "-\n",
            "English:        i missed it\n",
            "Spanish (true):  lo extranaba\n",
            "Spanish (pred):  yo lo he piego\n",
            "-\n",
            "English:        i must hide\n",
            "Spanish (true):  debo esconderme\n",
            "Spanish (pred):  yo debo extranar\n",
            "-\n",
            "English:        i need cash\n",
            "Spanish (true):  necesito dinero en efectivo\n",
            "Spanish (pred):  necesito afues\n",
            "-\n",
            "English:        i need cash\n",
            "Spanish (true):  necesito efectivo\n",
            "Spanish (pred):  necesito afues\n",
            "-\n",
            "English:        i need cash\n",
            "Spanish (true):  necesito dinero en metalico\n",
            "Spanish (pred):  necesito afues\n",
            "-\n",
            "English:        i need help\n",
            "Spanish (true):  necesito ayuda\n",
            "Spanish (pred):  necesito ayuda\n",
            "-\n",
            "English:        i need help\n",
            "Spanish (true):  necesito ayuda\n",
            "Spanish (pred):  necesito ayuda\n",
            "-\n",
            "English:        i need help\n",
            "Spanish (true):  necesito ayuda\n",
            "Spanish (pred):  necesito ayuda\n",
            "-\n",
            "English:        i need mine\n",
            "Spanish (true):  necesito el mio\n",
            "Spanish (pred):  necesito minmo\n",
            "-\n",
            "English:        i need mine\n",
            "Spanish (true):  necesito la mia\n",
            "Spanish (pred):  necesito minmo\n",
            "-\n",
            "English:        i need them\n",
            "Spanish (true):  los necesito\n",
            "Spanish (pred):  necesito esto\n",
            "-\n",
            "English:        i need this\n",
            "Spanish (true):  necesito esto\n",
            "Spanish (pred):  yo necesito esto\n",
            "-\n",
            "English:        i need time\n",
            "Spanish (true):  necesito tiempo\n",
            "Spanish (pred):  necesito esto\n",
            "-\n",
            "English:        i needed it\n",
            "Spanish (true):  yo lo necesite\n",
            "Spanish (pred):  yo lo necesite\n",
            "-\n",
            "English:        i never cry\n",
            "Spanish (true):  nunca lloro\n",
            "Spanish (pred):  nunca ceno\n"
          ],
          "name": "stdout"
        }
      ]
    },
    {
      "cell_type": "markdown",
      "metadata": {
        "id": "ajdWkq1Id2fR"
      },
      "source": [
        "### 4.2. Translate an English sentence to the target language\n",
        "\n",
        "1. Tokenization\n",
        "2. One-hot encode\n",
        "3. Translate"
      ]
    },
    {
      "cell_type": "code",
      "metadata": {
        "colab": {
          "base_uri": "https://localhost:8080/"
        },
        "id": "fNuMZuJ-d2fd",
        "outputId": "e3621a2e-a7a0-4c93-a042-4e81b72538a6"
      },
      "source": [
        "input_sentence = 'I love you'\n",
        "\n",
        "input_sequence = pad_sequences(numpy.array([input_token_index[x] for x in input_sentence.lower()]).reshape(1,len(input_sentence)), \n",
        "                               maxlen=max_encoder_seq_length, padding='post')\n",
        "\n",
        "input_x = onehot_encode(input_sequence, max_encoder_seq_length, num_encoder_tokens)\n",
        "\n",
        "translated_sentence = decode_sequence(input_x)\n",
        "\n",
        "print('source sentence is: ' + input_sentence)\n",
        "print('translated sentence is: ' + translated_sentence)"
      ],
      "execution_count": 46,
      "outputs": [
        {
          "output_type": "stream",
          "text": [
            "source sentence is: I love you\n",
            "translated sentence is: yo te quisi\n",
            "\n"
          ],
          "name": "stdout"
        }
      ]
    },
    {
      "cell_type": "markdown",
      "metadata": {
        "id": "fDySlOYgd2fi"
      },
      "source": [
        "## 5. Evaluate the translation using BLEU score\n",
        "\n",
        "Reference: \n",
        "- https://machinelearningmastery.com/calculate-bleu-score-for-text-python/\n",
        "- https://en.wikipedia.org/wiki/BLEU\n",
        "\n",
        "\n",
        "**Hint:** \n",
        "\n",
        "- Randomly partition the dataset to training, validation, and test. \n",
        "\n",
        "- Evaluate the BLEU score using the test set. Report the average.\n",
        "\n",
        "- A reasonable BLEU score should be 0.1 ~ 0.5."
      ]
    },
    {
      "cell_type": "code",
      "metadata": {
        "colab": {
          "base_uri": "https://localhost:8080/"
        },
        "id": "u-wEXtGjd2fk",
        "outputId": "3aa01d0f-e2ed-4729-b2af-12f706773a44"
      },
      "source": [
        "test_set = clean_data(pairs)[numpy.random.permutation(20100)[20000:20100],:]\n",
        "#print(test_set)\n",
        "\n",
        "from nltk.translate.bleu_score import sentence_bleu\n",
        "bleu_score=0\n",
        "\n",
        "for i in range(100):\n",
        "  reference = [test_set[i,1].split(' ')]\n",
        "  t_input_sequence = pad_sequences(numpy.array([input_token_index[x] for x in test_set[i,0].lower()]).reshape(1,len(test_set[i,0])), \n",
        "                               maxlen=max_encoder_seq_length, padding='post')\n",
        "  t_input_x = onehot_encode(t_input_sequence, max_encoder_seq_length, num_encoder_tokens)\n",
        "  translated_sentence = decode_sequence(t_input_x)\n",
        "  candidate = translated_sentence[0:-1].split(' ') \n",
        "  Bleu_Score=sentence_bleu(reference,candidate)\n",
        "  bleu_score+=Bleu_Score\n",
        "bleu_score/=100\n",
        "print(\"avrange bleu score is:\",bleu_score)\n"
      ],
      "execution_count": 64,
      "outputs": [
        {
          "output_type": "stream",
          "text": [
            "/usr/local/lib/python3.7/dist-packages/nltk/translate/bleu_score.py:490: UserWarning: \n",
            "Corpus/Sentence contains 0 counts of 2-gram overlaps.\n",
            "BLEU scores might be undesirable; use SmoothingFunction().\n",
            "  warnings.warn(_msg)\n",
            "/usr/local/lib/python3.7/dist-packages/nltk/translate/bleu_score.py:490: UserWarning: \n",
            "Corpus/Sentence contains 0 counts of 3-gram overlaps.\n",
            "BLEU scores might be undesirable; use SmoothingFunction().\n",
            "  warnings.warn(_msg)\n",
            "/usr/local/lib/python3.7/dist-packages/nltk/translate/bleu_score.py:490: UserWarning: \n",
            "Corpus/Sentence contains 0 counts of 4-gram overlaps.\n",
            "BLEU scores might be undesirable; use SmoothingFunction().\n",
            "  warnings.warn(_msg)\n"
          ],
          "name": "stderr"
        },
        {
          "output_type": "stream",
          "text": [
            "avrange bleu score is: 0.5598964588649089\n"
          ],
          "name": "stdout"
        }
      ]
    }
  ]
}